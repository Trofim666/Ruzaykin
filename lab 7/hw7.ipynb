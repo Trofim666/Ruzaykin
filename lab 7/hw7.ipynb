{
 "cells": [
  {
   "cell_type": "markdown",
   "metadata": {},
   "source": [
    "### <font color=darkred>Упражнение 1. Векторное произведение</font>\n",
    "\n",
    "Перегрузите оператор `@` так, чтобы при его применении к экземплярам класса `Vector` вычислялось векторное произведение. \n",
    "\n",
    "#### Пример использования оператора `@`:\n",
    "```python\n",
    ">>> v1 = Vector(1, 0, 0)\n",
    ">>> v2 = Vector(0, 1, 0)\n",
    ">>> v3 = v1 @ v2\n",
    ">>> print(v3)\n",
    "<0, 0, 1>\n",
    ">>> v4 = v2 @ v1\n",
    ">>> print(v4)\n",
    "<0, 0, -1>\n",
    "```"
   ]
  },
  {
   "cell_type": "code",
   "execution_count": 44,
   "metadata": {},
   "outputs": [
    {
     "name": "stdout",
     "output_type": "stream",
     "text": [
      "<0, -2, 4>\n"
     ]
    }
   ],
   "source": [
    "class Vector:\n",
    "    def __init__(self, x, y, z):\n",
    "        self.x = x\n",
    "        self.y = y\n",
    "        self.z = z\n",
    "    \n",
    "    \n",
    "    def __str__(self):\n",
    "        # f-строки поддерживаются, начиная с Python версии 3.6.\n",
    "        # Если у Вас версия Python < 3.6 используйте\n",
    "        # метод `str.format()`.\n",
    "        # s = f\"<{self.x}, {self.y}, {self.z}>\"\n",
    "        s = \"<{}, {}, {}>\".format(self.x, self.y, self.z)\n",
    "        return s\n",
    "    \n",
    "\n",
    "    def __matmul__(self, other):\n",
    "        a = self.y*other.z - self.z*other.y\n",
    "        b = -self.x*other.z + self.z*other.x\n",
    "        c = self.x*other.y - self.y*other.x\n",
    "        \n",
    "        f = Vector(a, b, c)\n",
    "        \n",
    "        return f\n",
    "        \n",
    "v1 = Vector(5, 6, 3)\n",
    "v2 = Vector(1, 2, 1)\n",
    "\n",
    "print(v1 @ v2)"
   ]
  },
  {
   "cell_type": "markdown",
   "metadata": {},
   "source": [
    "# <font color=blue>Операторы `()`, `[]`</font>\n",
    "\n",
    "## <font color=green>Как сделать экземпляры класса вызываемыми</font>\n",
    "\n",
    "Если у класса есть метод `__call__()`, то объекты этого класса можно вызывать, как функции. \n",
    "\n",
    "### Пример 1"
   ]
  },
  {
   "cell_type": "code",
   "execution_count": 67,
   "metadata": {},
   "outputs": [
    {
     "name": "stdout",
     "output_type": "stream",
     "text": [
      "You called me with arguments 1 2!\n",
      "<__main__.CallOpOverload object at 0x0000000005162F28>\n"
     ]
    }
   ],
   "source": [
    "class CallOpOverload:\n",
    "    def __call__(self, x, y):\n",
    "        print(\"You called me with arguments {} {}!\".format(x, y))\n",
    "        \n",
    "obj = CallOpOverload()\n",
    "\n",
    "obj(1,2)\n",
    "\n",
    "print(obj)"
   ]
  },
  {
   "cell_type": "markdown",
   "metadata": {},
   "source": [
    "Функции и методы -- это еще 2 типа объектов, у которых есть метод `__call__()`. У метода `__call__()` тоже есть метод `__call__()`. И так до бесконечности."
   ]
  },
  {
   "cell_type": "code",
   "execution_count": 71,
   "metadata": {},
   "outputs": [
    {
     "name": "stdout",
     "output_type": "stream",
     "text": [
      "x: 3\n",
      "x: 3\n",
      "None\n",
      "<method-wrapper '__call__' of method-wrapper object at 0x000000000507CE10>\n"
     ]
    }
   ],
   "source": [
    "def f(x):\n",
    "    print(\"x:\", x)\n",
    "\n",
    "f(3)\n",
    "    \n",
    "print(f.__call__)\n",
    "print(f.__call__.__call__)"
   ]
  },
  {
   "cell_type": "code",
   "execution_count": 42,
   "metadata": {
    "scrolled": true
   },
   "outputs": [
    {
     "name": "stdout",
     "output_type": "stream",
     "text": [
      "x: 1\n"
     ]
    }
   ],
   "source": [
    "f.__call__.__call__(1)"
   ]
  },
  {
   "cell_type": "markdown",
   "metadata": {},
   "source": [
    "## <font color=green>Как сделать экземпляры класса индексируемыми</font>\n",
    "\n",
    "Можно создать класс, чьи экземпляры будут индексируемыми, то есть будет возможность доступа к данным с помощью квадратных скобок `[]`. Иначе говоря, можно имитировать список или словарь. Оператор `[]` настраивается с помощью методов `__setitem__()`, `__getitem__()` и `__delitem__()`.\n",
    "\n",
    "1. Метод `__setitem__(self, key, value)` присваивает новое значение элементу. Вызывается, если квадратные скобки стоят слева от оператора присваивания.\n",
    "```python\n",
    "obj[key] = value\n",
    "```\n",
    "\n",
    "- Метод `__getitem__(self, key)` возвращает значение элемента. Вызывается при получении значения элемента: элемент справа от оператора присваивания, элемент в качестве аргумента функции или операнда.\n",
    "```python\n",
    "s = 2 + obj[key]\n",
    "print(obj[key])\n",
    "```\n",
    "\n",
    "- Метод `__delitem__(self, key)` удаляет элемент. Вызывается, если элемент стоит после слова `del`.\n",
    "```python\n",
    "del obj[key]\n",
    "```\n",
    "\n",
    "### Пример 2. Имитация списка"
   ]
  },
  {
   "cell_type": "code",
   "execution_count": 29,
   "metadata": {},
   "outputs": [
    {
     "name": "stdout",
     "output_type": "stream",
     "text": [
      "[1, 2, 3]\n",
      "[10, 2, 3]\n",
      "[10, 3]\n",
      "10\n"
     ]
    }
   ],
   "source": [
    "class ListImitation:\n",
    "    def __init__(self, data_init):\n",
    "        self._data = list(data_init)\n",
    "    \n",
    "    def __setitem__(self, key, value):\n",
    "        self._data[key] = value\n",
    "    \n",
    "    def __getitem__(self, key):\n",
    "        return self._data[key]\n",
    "    \n",
    "    def __delitem__(self, key):\n",
    "        del self._data[key]\n",
    "    \n",
    "    def __str__(self):\n",
    "        return str(self._data)\n",
    "\n",
    "\n",
    "li = ListImitation((1, 2, 3))\n",
    "print(li)\n",
    "li[0] = 10\n",
    "print(li)\n",
    "del li[1]\n",
    "print(li)\n",
    "print(li[0])"
   ]
  },
  {
   "cell_type": "markdown",
   "metadata": {},
   "source": [
    "### Пример 3. Имитация словаря"
   ]
  },
  {
   "cell_type": "code",
   "execution_count": 60,
   "metadata": {},
   "outputs": [
    {
     "name": "stdout",
     "output_type": "stream",
     "text": [
      "{'a': 5, (1, 2): 3, 'foo': 'bar'}\n",
      "{'a': 10, (1, 2): 3, 'foo': 'bar'}\n",
      "{(1, 2): 3, 'foo': 'bar'}\n",
      "bar\n"
     ]
    }
   ],
   "source": [
    "class DictImitation:\n",
    "    def __init__(self, data_init):\n",
    "        self._data = dict(data_init)\n",
    "    \n",
    "    def __setitem__(self, key, value):\n",
    "        self._data[key] = value\n",
    "    \n",
    "    def __getitem__(self, key):\n",
    "        return self._data[key]\n",
    "    \n",
    "    def __delitem__(self, key):\n",
    "        del self._data[key]\n",
    "    \n",
    "    def __str__(self):\n",
    "        return str(self._data)\n",
    "    \n",
    "b = 5\n",
    "    \n",
    "di = DictImitation({'a': b, (1, 2): 3, 'foo': 'bar'})\n",
    "print(di)\n",
    "di['a'] = 10\n",
    "print(di)\n",
    "del di['a']\n",
    "print(di)\n",
    "print(di['foo'])"
   ]
  },
  {
   "cell_type": "markdown",
   "metadata": {},
   "source": [
    "### Упражнение 2. Многочлен\n",
    "\n",
    "Создайте класс `Polynomial`, имитирующий многочлен одной переменной $x$. \n",
    "\n",
    "Для объектов класса `Polynomial` должны быть определены операторы \n",
    "\n",
    "- сложения `+`, \n",
    "\n",
    "- вычитания `-`, \n",
    "\n",
    "- унарного отрицания `-` (метод `__neg__(self)`),\n",
    "\n",
    "- умножения `*`.\n",
    "\n",
    "- возведения в степень `**` (только для целых неотрицательных чисел).\n",
    "\n",
    "Конструктор должен поддерживать 2 типа входных данных: список и словарь. Если на вход подается список, то этот список содержит коэффициенты членов. Если на вход подан словарь, то ключи словаря -- степени переменной $x$, а значения -- коэффициенты при соответствующих членах.\n",
    "\n",
    "Добавьте методы:\n",
    "\n",
    "- `__str__()` для красивой печати;\n",
    "\n",
    "- `__getitem__()` для получения коэффициента (метод `__getitem__()` должен возвращать `0`, если в многочлене нет искомого слагаемого); \n",
    "\n",
    "- `__setitem__()` для добавления члена или изменения кооэффициента;\n",
    "\n",
    "- `__delitem__()` для удаления члена;\n",
    "\n",
    "- `__call__(self, value)` для вычисления многочлена при $x = \\text{value}$.\n",
    "\n",
    "\n",
    "Задокументируйте сам класс и методы `__init__()`, `__call__()`, `__getitem__()` `__pow__()`. Руководствуйтесь [PEP 257](https://www.python.org/dev/peps/pep-0257/).\n",
    "\n",
    "\n",
    "#### Примеры использования\n",
    "```python\n",
    ">>> p1 = Polynomial([2, 1])\n",
    ">>> p2 = Polynomial({0: -2, 1: 1})\n",
    ">>> print(p1)\n",
    "x + 2\n",
    ">>> print(p2)\n",
    "x - 2\n",
    ">>> print(p1 + p2)\n",
    "2*x\n",
    ">>> print(p1 - p2)\n",
    "4\n",
    ">>> print(-p1 + p2)\n",
    "-4\n",
    ">>> print(p1 * p2)\n",
    "x^2 - 4\n",
    ">>> print(p1 ** 2)\n",
    "x^2 + 4*x + 4\n",
    ">>> print(p2 ** 3)\n",
    "x^3 - 6*x^2 + 12*x - 8\n",
    ">>> print(p2 ** 0)\n",
    "1\n",
    ">>> del p1[1]\n",
    ">>> print(p1)\n",
    "2\n",
    ">>> p1[1] = -1\n",
    ">>> print(p1)\n",
    "-x + 2\n",
    ">>> print(p1[0])\n",
    "2\n",
    ">>> p3 = p1 * p2\n",
    ">>> print(p3)\n",
    "-x^2 + 4*x - 4\n",
    ">>> a = p3(0.5)\n",
    ">>> print(a)\n",
    "-2.25\n",
    ">>> p3[10]\n",
    "0\n",
    "```"
   ]
  },
  {
   "cell_type": "code",
   "execution_count": 76,
   "metadata": {},
   "outputs": [],
   "source": [
    "class Polynomial:            \n",
    "                                                           \n",
    "    def __init__(self, data_init):\n",
    "        if isinstance(data_init, dict):\n",
    "            self._data = dict(data_init)               # Не могу найти ошибку в методе __pow__. Сделал отладку:\n",
    "                                                       # получается почему-то так, что при degree>2 после 2 итерации \n",
    "        if isinstance(data_init, list):                # real становится нулевым при старте 3 итерации\n",
    "            new_data = {}\n",
    "            for i in range(len(data_init)):\n",
    "                new_data[i] = data_init[i]\n",
    "            self._data = dict(new_data)\n",
    "    \n",
    "    def __getitem__(self, degree):\n",
    "        return self._data[degree]\n",
    "    \n",
    "    def __setitem__(self, degree, value):\n",
    "        self._data[degree] = value\n",
    "           \n",
    "    def __delitem__(self, degree):\n",
    "        del self._data[degree]\n",
    "       \n",
    "    def __neg__(self):\n",
    "        \n",
    "        a = self._data\n",
    "        \n",
    "        for i in a:\n",
    "            a[i] = -a[i]\n",
    "        \n",
    "        a = Polynomial(a)\n",
    "        \n",
    "        return a\n",
    "        \n",
    "    def __call__(self, x):\n",
    "        \n",
    "        a = self._data\n",
    "        max1 = max_size(a,a)\n",
    "        value = 0\n",
    "        \n",
    "        for k in  a:\n",
    "            value += a[k]*x**k\n",
    "        return value\n",
    "    \n",
    "    def __pow__(self, degree):\n",
    "        \n",
    "        a = self._data\n",
    "        \n",
    "        max1 = max_size(a,a)\n",
    "        \n",
    "        new = {}\n",
    "        real = a\n",
    "        \n",
    "        for k in range(degree - 1):\n",
    "            deg = (max1 + 1)*(k + 3)\n",
    "            \n",
    "            for i in range(deg):\n",
    "                new[i] = 0\n",
    "        \n",
    "            for i in real:\n",
    "                for k in a:\n",
    "                    f = real[i]*a[k]\n",
    "                    new[i+k] = new[i+k] + f\n",
    "            new1 = new\n",
    "            real = new1\n",
    "                \n",
    "        real = Polynomial(real)\n",
    "        \n",
    "        return real\n",
    "            \n",
    "    def __mul__(self, other):\n",
    "            \n",
    "        a = self._data\n",
    "        b = other._data\n",
    "\n",
    "        max1 = max_size(a, b)\n",
    "        \n",
    "        new = {}\n",
    "        \n",
    "        for i in range(2*max1 + 2):\n",
    "            new[i] = 0\n",
    "                \n",
    "        for i in a:\n",
    "            for k in b:\n",
    "                f = a[i]*b[k]\n",
    "                new[i+k] = new[i+k] + f\n",
    "        \n",
    "        new = Polynomial(new)\n",
    "        \n",
    "        return new\n",
    "    \n",
    "    def __add__(self, other):\n",
    "        \n",
    "        a = self._data\n",
    "        b = other._data\n",
    "        \n",
    "        make_dics_full(a, b)\n",
    "        max1 = max_size(a, b)\n",
    "        \n",
    "        new = {}\n",
    "        \n",
    "        for i in range(max1 + 1):\n",
    "            new[i] = a[i] + b[i]\n",
    "        \n",
    "        new = Polynomial(new)\n",
    "        return new\n",
    "    \n",
    "    def __sub__(self, other):\n",
    "        \n",
    "        a = self._data\n",
    "        b = other._data\n",
    "        \n",
    "        make_dics_full(a, b)\n",
    "        max1 = max_size(a, b)\n",
    "        \n",
    "        new = {}\n",
    "        \n",
    "        for i in range(max1 + 1):\n",
    "            new[i] = a[i] - b[i]\n",
    "        \n",
    "        new = Polynomial(new)\n",
    "        return new\n",
    "                    \n",
    "    def __str__(self):\n",
    "        \n",
    "        s = ' '\n",
    "        k = 0\n",
    "        dic = self._data\n",
    "        \n",
    "        for i in dic:\n",
    "            \n",
    "            if dic[i] != 0:\n",
    "                \n",
    "                if k == 0 and i == 0:\n",
    "                    s += ' ' + str(dic[i])\n",
    "                elif k == 0 and i != 0 and dic[i] == 1:\n",
    "                    s += ' ' + 'x' + '^' + str(i)\n",
    "                elif k == 0 and i != 0 and dic[i] == -1:\n",
    "                    s += ' -' + 'x' + '^' + str(i)\n",
    "                elif k == 0 and i != 0:\n",
    "                    s += ' ' + str(dic[i]) + 'x' + str(i)\n",
    "                else: \n",
    "                                \n",
    "                    if dic[i] > 0:\n",
    "                        \n",
    "                        if i == 0:\n",
    "                            s += ' + ' + str(dic[i])\n",
    "                        elif i == 1:\n",
    "                            if dic[i] == 1:\n",
    "                                s += ' + x'\n",
    "                            else:\n",
    "                                s += ' + ' + str(dic[i]) + 'x'\n",
    "                        elif i != 0 and i != 1:\n",
    "                            if dic[i] == 1:\n",
    "                                 s += ' + x^' + str(i)\n",
    "                            else:\n",
    "                                s += ' + ' + str(dic[i]) + 'x' + '^' + str(i)\n",
    "                                   \n",
    "                    if dic[i] < 0:\n",
    "                        \n",
    "                        if i == 0:\n",
    "                            s += ' - ' + str(-dic[i])\n",
    "                        elif i == 1:\n",
    "                            if dic[i] == -1:\n",
    "                                s += ' - x'\n",
    "                            else:\n",
    "                                s += ' - ' + str(-dic[i]) + 'x'\n",
    "                        elif i != 0 and i != 1:\n",
    "                            if dic[i] == -1:\n",
    "                                 s += ' - x^' + str(i)\n",
    "                            else:\n",
    "                                s += ' - ' + str(-dic[i]) + 'x' + '^' + str(i)\n",
    "            \n",
    "            k = 1\n",
    "            \n",
    "        return s\n",
    "    \n",
    "    \n",
    "def max_size(a, b):\n",
    "        \n",
    "        for k in a:\n",
    "            max1 = k        \n",
    "        for k in b:\n",
    "            max2 = k\n",
    "        \n",
    "        if max1 > max2:\n",
    "            max1 = max1\n",
    "        else:\n",
    "            max1 = max2\n",
    "        return max1\n",
    "        \n",
    "        \n",
    "def make_dics_full(a, b):\n",
    "    \n",
    "        max1 = max_size(a, b)\n",
    "     \n",
    "        for i in range (max1 + 1):\n",
    "            if not (i in a):\n",
    "                a[i] = 0\n",
    "            if not (i in b):\n",
    "                b[i] = 0\n",
    "        \n",
    "    "
   ]
  },
  {
   "cell_type": "code",
   "execution_count": 77,
   "metadata": {},
   "outputs": [],
   "source": [
    "p1 = Polynomial([-6, 5])\n",
    "p2 = Polynomial({0: -6, 1: 5})\n"
   ]
  },
  {
   "cell_type": "markdown",
   "metadata": {
    "scrolled": true
   },
   "source": [
    "##### "
   ]
  },
  {
   "cell_type": "code",
   "execution_count": 78,
   "metadata": {},
   "outputs": [
    {
     "name": "stdout",
     "output_type": "stream",
     "text": [
      "  -6 + 5x   -6 + 5x\n"
     ]
    }
   ],
   "source": [
    "\n",
    "print(p1, p2)\n",
    "\n"
   ]
  },
  {
   "cell_type": "code",
   "execution_count": 79,
   "metadata": {},
   "outputs": [
    {
     "name": "stdout",
     "output_type": "stream",
     "text": [
      "  36 - 60x + 25x^2\n"
     ]
    }
   ],
   "source": [
    "p3 = p1 ** 2\n",
    "print(p3)\n"
   ]
  },
  {
   "cell_type": "markdown",
   "metadata": {},
   "source": [
    "### Упражнение 3. Вызов методов родительских классов\n",
    "\n",
    "Из классах `A`, `B` и `C` есть методы `f()` и `g()`, причем все методы `f()` вызывают метод `g()`. \n",
    "1. Допишите в методе `C.m()` вызовы методов `A.f()`, `B.f()`, `C.f()`. \n",
    "\n",
    "2. Модифицируйте методы `A.f()` и `B.f()` так, чтобы при вызове `X.f()`, `X.f()` вызывал `X.g()` (`X` -- это `A` или `B`)."
   ]
  },
  {
   "cell_type": "code",
   "execution_count": 59,
   "metadata": {},
   "outputs": [],
   "source": [
    "class A:\n",
    "    def f(self):\n",
    "        print(\"Method `f()` in class `A`\")\n",
    "        A.g(self)\n",
    "        \n",
    "    def g(self):\n",
    "        print(\"Method `g()` in class `A`\")\n",
    "        \n",
    "\n",
    "class B(A):\n",
    "    def f(self):\n",
    "        print(\"Method `f()` in class `B`\")\n",
    "        self.g()\n",
    "        \n",
    "    def g(self):\n",
    "        print(\"Method `g()` in class `B`\")\n",
    "        \n",
    "\n",
    "class C(B):\n",
    "    def f(self):\n",
    "        print(\"Method `f()` in class `C`\")\n",
    "        self.g()\n",
    "        \n",
    "    def g(self):\n",
    "        print(\"Method `g()` in class `C`\")\n",
    "        \n",
    "    def m(self):\n",
    "        A.f(self)\n",
    "        B.f(self)\n",
    "        C.f(self)"
   ]
  },
  {
   "cell_type": "code",
   "execution_count": 60,
   "metadata": {},
   "outputs": [
    {
     "name": "stdout",
     "output_type": "stream",
     "text": [
      "Method `f()` in class `A`\n",
      "Method `g()` in class `A`\n",
      "Method `f()` in class `B`\n",
      "Method `g()` in class `C`\n",
      "Method `f()` in class `C`\n",
      "Method `g()` in class `C`\n"
     ]
    }
   ],
   "source": [
    "c = C()\n",
    "c.m()"
   ]
  },
  {
   "cell_type": "markdown",
   "metadata": {},
   "source": [
    "### Упражнение 4. Ромб смерти\n",
    "\n",
    "Из классов `A`, `B`, `C`, `D`, `E`, `F` составлен ромб сметри. Во всех классах есть метод `f()`. \n",
    "\n",
    "С помощью функции `super()` вызовите методы  `A.f()`, `B.f()`, `C.f()`, `D.f()`, `E.f()` в методе `m()`."
   ]
  },
  {
   "cell_type": "code",
   "execution_count": 61,
   "metadata": {},
   "outputs": [],
   "source": [
    "class A:\n",
    "    def f(self):\n",
    "        print(\"Method `f()` in class `A`\")\n",
    "\n",
    "\n",
    "class B(A):\n",
    "    def f(self):\n",
    "        print(\"Method `f()` in class `B`\")\n",
    "        \n",
    "\n",
    "class C(B):\n",
    "    def f(self):\n",
    "        print(\"Method `f()` in class `C`\")\n",
    "        \n",
    "        \n",
    "class D(A):\n",
    "    def f(self):\n",
    "        print(\"Method `f()` in class `D`\")\n",
    "        \n",
    "        \n",
    "class E(D):\n",
    "    def f(self):\n",
    "        print(\"Method `f()` in class `E`\")\n",
    "\n",
    "\n",
    "class F(C, E):\n",
    "    def f(self):\n",
    "        print(\"Method `f()` in class `F`\")\n",
    "        \n",
    "    def m(self):\n",
    "        super(D, self).f()\n",
    "        super(C, self).f()\n",
    "        super(F, self).f()\n",
    "        super(E, self).f()\n",
    "        super(B, self).f()"
   ]
  },
  {
   "cell_type": "code",
   "execution_count": 62,
   "metadata": {},
   "outputs": [
    {
     "name": "stdout",
     "output_type": "stream",
     "text": [
      "Method `f()` in class `A`\n",
      "Method `f()` in class `B`\n",
      "Method `f()` in class `C`\n",
      "Method `f()` in class `D`\n",
      "Method `f()` in class `E`\n"
     ]
    }
   ],
   "source": [
    "f = F()\n",
    "f.m()"
   ]
  },
  {
   "cell_type": "code",
   "execution_count": null,
   "metadata": {},
   "outputs": [],
   "source": []
  }
 ],
 "metadata": {
  "kernelspec": {
   "display_name": "Python 3",
   "language": "python",
   "name": "python3"
  },
  "language_info": {
   "codemirror_mode": {
    "name": "ipython",
    "version": 3
   },
   "file_extension": ".py",
   "mimetype": "text/x-python",
   "name": "python",
   "nbconvert_exporter": "python",
   "pygments_lexer": "ipython3",
   "version": "3.7.3"
  }
 },
 "nbformat": 4,
 "nbformat_minor": 2
}
